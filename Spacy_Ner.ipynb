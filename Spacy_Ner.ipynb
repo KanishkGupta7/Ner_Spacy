{
 "cells": [
  {
   "cell_type": "code",
   "execution_count": 2,
   "metadata": {},
   "outputs": [],
   "source": [
    "import spacy"
   ]
  },
  {
   "cell_type": "code",
   "execution_count": 3,
   "metadata": {},
   "outputs": [],
   "source": [
    "article=\"The 2019 ICC Cricket World Cup was the 12th Cricket World Cup, a quadrennial, One Day International cricket tournament contested by men's national teams and organised by the International Cricket Council (ICC). It was hosted by England and Wales, making it the fifth time England has hosted the World Cup, beginning on 30 May and ending with the final on 14 July. The final was played at Lord's in London, where England beat New Zealand on boundary count after both the match and the subsequent Super Over finished as ties.The tournament was contested by 10 teams, who played in a single round-robin group, with the top four at the end of the group phase – India, Australia, New Zealand and England – progressing to the semi-finals.\""
   ]
  },
  {
   "cell_type": "code",
   "execution_count": 5,
   "metadata": {},
   "outputs": [],
   "source": [
    "ner=spacy.load('en')"
   ]
  },
  {
   "cell_type": "code",
   "execution_count": 6,
   "metadata": {},
   "outputs": [],
   "source": [
    "doc=ner(article)"
   ]
  },
  {
   "cell_type": "code",
   "execution_count": 7,
   "metadata": {},
   "outputs": [
    {
     "name": "stdout",
     "output_type": "stream",
     "text": [
      "type:DATE,value 2019\n",
      "type:EVENT,value ICC Cricket World Cup\n",
      "type:ORDINAL,value 12th\n",
      "type:EVENT,value Cricket World Cup\n",
      "type:CARDINAL,value One\n",
      "type:ORG,value the International Cricket Council (ICC\n",
      "type:GPE,value England\n",
      "type:GPE,value Wales\n",
      "type:ORDINAL,value fifth\n",
      "type:GPE,value England\n",
      "type:EVENT,value the World Cup\n",
      "type:DATE,value 30 May\n",
      "type:DATE,value 14 July\n",
      "type:GPE,value London\n",
      "type:GPE,value England\n",
      "type:GPE,value New Zealand\n",
      "type:ORG,value Super Over\n",
      "type:CARDINAL,value 10\n",
      "type:CARDINAL,value four\n",
      "type:GPE,value India\n",
      "type:GPE,value Australia\n",
      "type:GPE,value New Zealand\n",
      "type:GPE,value England\n"
     ]
    }
   ],
   "source": [
    "for i in doc.ents:\n",
    "    print('type:%s,value %s'%(i.label_,i))"
   ]
  },
  {
   "cell_type": "code",
   "execution_count": null,
   "metadata": {},
   "outputs": [],
   "source": []
  }
 ],
 "metadata": {
  "kernelspec": {
   "display_name": "Python 3",
   "language": "python",
   "name": "python3"
  },
  "language_info": {
   "codemirror_mode": {
    "name": "ipython",
    "version": 3
   },
   "file_extension": ".py",
   "mimetype": "text/x-python",
   "name": "python",
   "nbconvert_exporter": "python",
   "pygments_lexer": "ipython3",
   "version": "3.7.3"
  }
 },
 "nbformat": 4,
 "nbformat_minor": 2
}
